{
 "cells": [
  {
   "cell_type": "markdown",
   "metadata": {},
   "source": [
    "# Introduction\n",
    "* This notebook contains an implementation of collaborative filtering from scratch (using only numpy).\n",
    "* Collaborative filtering is an algorithm for recommendation, used for example to predict a user's rating of a movie. \n",
    "* This is done by comparing the most similar users to the desired user, and the ratings they gave the desired movie.\n",
    "* The data I used for this project is the MovieLens 100k, from GroupLens: https://grouplens.org/datasets/movielens/100k/\n",
    "* In the full data set there are 100000 ratings by 943 users on 1682 movies, where each user has rated at least 20 movies.\n",
    "* The data sets ratings_train.csv and ratings_test.csv split the full data into a training set and a test set with exactly 10 ratings per user in the test set.\n",
    "* Using collborative filtering, I got a mean squared error score on the test data set of 1.04.\n",
    "\n",
    "### The notebook is divided into the following parts:\n",
    "* [Part 1: Notebook preparation](#part_1)\n",
    "* [Part 2: Data exploration](#part_2)\n",
    "* [Part 3: Data preparation](#part_3)\n",
    "* [Part 4: Collaborative filtering](#part_4)\n",
    "* [Part 5: Predict the test data and evaluate the model with MSE](#part_5)"
   ]
  },
  {
   "cell_type": "markdown",
   "metadata": {},
   "source": [
    "<a id=\"part_1\"></a>\n",
    "# Part 1: Notebook preparation"
   ]
  },
  {
   "cell_type": "code",
   "execution_count": 1,
   "metadata": {},
   "outputs": [],
   "source": [
    "# Data processing\n",
    "import pandas as pd\n",
    "import numpy as np\n",
    "from sortedcontainers import SortedList\n",
    "\n",
    "# Visualization\n",
    "import seaborn as sns\n",
    "sns.set(style=\"white\")\n",
    "import matplotlib.pyplot as plt\n",
    "from matplotlib.colors import ListedColormap\n",
    "%matplotlib inline"
   ]
  },
  {
   "cell_type": "code",
   "execution_count": 2,
   "metadata": {},
   "outputs": [],
   "source": [
    "df_train = pd.read_csv('ratings_train.csv', header=None, names=['userId', 'movieId', 'rating', 'timestamp'])\n",
    "df_test = pd.read_csv('ratings_test.csv', header=None, names=['userId', 'movieId', 'rating', 'timestamp'])"
   ]
  },
  {
   "cell_type": "markdown",
   "metadata": {},
   "source": [
    "<a id=\"part_2\"></a>\n",
    "# Part 2: Data exploration"
   ]
  },
  {
   "cell_type": "code",
   "execution_count": 3,
   "metadata": {},
   "outputs": [
    {
     "data": {
      "text/html": [
       "<div>\n",
       "<style scoped>\n",
       "    .dataframe tbody tr th:only-of-type {\n",
       "        vertical-align: middle;\n",
       "    }\n",
       "\n",
       "    .dataframe tbody tr th {\n",
       "        vertical-align: top;\n",
       "    }\n",
       "\n",
       "    .dataframe thead th {\n",
       "        text-align: right;\n",
       "    }\n",
       "</style>\n",
       "<table border=\"1\" class=\"dataframe\">\n",
       "  <thead>\n",
       "    <tr style=\"text-align: right;\">\n",
       "      <th></th>\n",
       "      <th>userId</th>\n",
       "      <th>movieId</th>\n",
       "      <th>rating</th>\n",
       "      <th>timestamp</th>\n",
       "    </tr>\n",
       "  </thead>\n",
       "  <tbody>\n",
       "    <tr>\n",
       "      <td>0</td>\n",
       "      <td>1</td>\n",
       "      <td>1</td>\n",
       "      <td>5</td>\n",
       "      <td>874965758</td>\n",
       "    </tr>\n",
       "    <tr>\n",
       "      <td>1</td>\n",
       "      <td>1</td>\n",
       "      <td>2</td>\n",
       "      <td>3</td>\n",
       "      <td>876893171</td>\n",
       "    </tr>\n",
       "    <tr>\n",
       "      <td>2</td>\n",
       "      <td>1</td>\n",
       "      <td>3</td>\n",
       "      <td>4</td>\n",
       "      <td>878542960</td>\n",
       "    </tr>\n",
       "    <tr>\n",
       "      <td>3</td>\n",
       "      <td>1</td>\n",
       "      <td>4</td>\n",
       "      <td>3</td>\n",
       "      <td>876893119</td>\n",
       "    </tr>\n",
       "    <tr>\n",
       "      <td>4</td>\n",
       "      <td>1</td>\n",
       "      <td>5</td>\n",
       "      <td>3</td>\n",
       "      <td>889751712</td>\n",
       "    </tr>\n",
       "  </tbody>\n",
       "</table>\n",
       "</div>"
      ],
      "text/plain": [
       "   userId  movieId  rating  timestamp\n",
       "0       1        1       5  874965758\n",
       "1       1        2       3  876893171\n",
       "2       1        3       4  878542960\n",
       "3       1        4       3  876893119\n",
       "4       1        5       3  889751712"
      ]
     },
     "metadata": {},
     "output_type": "display_data"
    },
    {
     "name": "stdout",
     "output_type": "stream",
     "text": [
      "Shape: (90570, 4)\n"
     ]
    }
   ],
   "source": [
    "display(df_train.head(5))\n",
    "print(f\"Shape: {df_train.shape}\")"
   ]
  },
  {
   "cell_type": "code",
   "execution_count": 4,
   "metadata": {},
   "outputs": [
    {
     "data": {
      "text/plain": [
       "<matplotlib.axes._subplots.AxesSubplot at 0x7f3fe926de48>"
      ]
     },
     "execution_count": 4,
     "metadata": {},
     "output_type": "execute_result"
    },
    {
     "data": {
      "image/png": "[encoded data removed]",
      "text/plain": [
       "<Figure size 432x288 with 1 Axes>"
      ]
     },
     "metadata": {
      "needs_background": "light"
     },
     "output_type": "display_data"
    }
   ],
   "source": [
    "# Rating histogram\n",
    "sns.barplot(df_train['rating'].value_counts().index, df_train['rating'].value_counts().values)"
   ]
  },
  {
   "cell_type": "code",
   "execution_count": 5,
   "metadata": {},
   "outputs": [],
   "source": [
    "mostCommonRating = df_train['rating'].value_counts().index[0]"
   ]
  },
  {
   "cell_type": "code",
   "execution_count": 6,
   "metadata": {},
   "outputs": [
    {
     "name": "stdout",
     "output_type": "stream",
     "text": [
      "Unique users in training set: 943\n",
      "Unique movies in training set: 1680\n",
      "Total unique movies in training and test set: 1682\n"
     ]
    }
   ],
   "source": [
    "print(f\"Unique users in training set: {len(df_train['userId'].unique())}\")\n",
    "print(f\"Unique movies in training set: {len(df_train['movieId'].unique())}\")\n",
    "print(f\"Total unique movies in training and test set: {len(set(df_train['movieId'].unique()) | set(df_test['movieId'].unique()))}\")"
   ]
  },
  {
   "cell_type": "code",
   "execution_count": 7,
   "metadata": {},
   "outputs": [
    {
     "name": "stdout",
     "output_type": "stream",
     "text": [
      "Min ratings per user in training set: 10\n",
      "Max ratings per user in training set: 727\n"
     ]
    },
    {
     "data": {
      "text/plain": [
       "<matplotlib.axes._subplots.AxesSubplot at 0x7f3fe91b8438>"
      ]
     },
     "execution_count": 7,
     "metadata": {},
     "output_type": "execute_result"
    },
    {
     "data": {
      "image/png": "[encoded data removed]",
      "text/plain": [
       "<Figure size 432x288 with 1 Axes>"
      ]
     },
     "metadata": {
      "needs_background": "light"
     },
     "output_type": "display_data"
    }
   ],
   "source": [
    "df_train['countPerUser'] = df_train.groupby('userId')['userId'].transform('count')\n",
    "\n",
    "print(f\"Min ratings per user in training set: {df_train['countPerUser'].min()}\")\n",
    "print(f\"Max ratings per user in training set: {df_train['countPerUser'].max()}\")\n",
    "df_train['countPerUser'].hist()"
   ]
  },
  {
   "cell_type": "code",
   "execution_count": 8,
   "metadata": {},
   "outputs": [
    {
     "data": {
      "text/html": [
       "<div>\n",
       "<style scoped>\n",
       "    .dataframe tbody tr th:only-of-type {\n",
       "        vertical-align: middle;\n",
       "    }\n",
       "\n",
       "    .dataframe tbody tr th {\n",
       "        vertical-align: top;\n",
       "    }\n",
       "\n",
       "    .dataframe thead th {\n",
       "        text-align: right;\n",
       "    }\n",
       "</style>\n",
       "<table border=\"1\" class=\"dataframe\">\n",
       "  <thead>\n",
       "    <tr style=\"text-align: right;\">\n",
       "      <th></th>\n",
       "      <th>userId</th>\n",
       "      <th>movieId</th>\n",
       "      <th>rating</th>\n",
       "      <th>timestamp</th>\n",
       "    </tr>\n",
       "  </thead>\n",
       "  <tbody>\n",
       "    <tr>\n",
       "      <td>0</td>\n",
       "      <td>1</td>\n",
       "      <td>20</td>\n",
       "      <td>4</td>\n",
       "      <td>887431883</td>\n",
       "    </tr>\n",
       "    <tr>\n",
       "      <td>1</td>\n",
       "      <td>1</td>\n",
       "      <td>33</td>\n",
       "      <td>4</td>\n",
       "      <td>878542699</td>\n",
       "    </tr>\n",
       "    <tr>\n",
       "      <td>2</td>\n",
       "      <td>1</td>\n",
       "      <td>61</td>\n",
       "      <td>4</td>\n",
       "      <td>878542420</td>\n",
       "    </tr>\n",
       "    <tr>\n",
       "      <td>3</td>\n",
       "      <td>1</td>\n",
       "      <td>117</td>\n",
       "      <td>3</td>\n",
       "      <td>874965739</td>\n",
       "    </tr>\n",
       "    <tr>\n",
       "      <td>4</td>\n",
       "      <td>1</td>\n",
       "      <td>155</td>\n",
       "      <td>2</td>\n",
       "      <td>878542201</td>\n",
       "    </tr>\n",
       "  </tbody>\n",
       "</table>\n",
       "</div>"
      ],
      "text/plain": [
       "   userId  movieId  rating  timestamp\n",
       "0       1       20       4  887431883\n",
       "1       1       33       4  878542699\n",
       "2       1       61       4  878542420\n",
       "3       1      117       3  874965739\n",
       "4       1      155       2  878542201"
      ]
     },
     "metadata": {},
     "output_type": "display_data"
    },
    {
     "name": "stdout",
     "output_type": "stream",
     "text": [
      "Shape: (9430, 4)\n"
     ]
    }
   ],
   "source": [
    "display(df_test.head(5))\n",
    "print(f\"Shape: {df_test.shape}\")"
   ]
  },
  {
   "cell_type": "markdown",
   "metadata": {},
   "source": [
    "<a id=\"part_3\"></a>\n",
    "# Part 3: Data preparation"
   ]
  },
  {
   "cell_type": "markdown",
   "metadata": {},
   "source": [
    "* As can be seen in the following test, the mean number of movies that have been rated by each user is higher than the mean number of users that rated each movie.\n",
    "* In such a case, user-based collaborative filtering is supposed to be better than movie-based collaborative filtering.\n",
    "* In most cases there are many more users that rated each movie than movies that have been rated by each user, and then movie-based collborative filtering performed better.\n",
    "* I guess that this data is biased because there are only users that rated at least 20 movies."
   ]
  },
  {
   "cell_type": "code",
   "execution_count": 9,
   "metadata": {},
   "outputs": [],
   "source": [
    "userToMovie = {}\n",
    "movieToUser = {}\n",
    "userMovieToRating_train = {}\n",
    "movieUserToRating_train = {}\n",
    "\n",
    "for user, movie, rating in zip(df_train['userId'], df_train['movieId'], df_train['rating']):\n",
    "    if user not in userToMovie:\n",
    "        userToMovie[user] = [movie]\n",
    "    else:\n",
    "        userToMovie[user].append(movie)\n",
    "        \n",
    "    if movie not in movieToUser:\n",
    "        movieToUser[movie] = [user]\n",
    "    else:\n",
    "        movieToUser[movie].append(user)\n",
    "\n",
    "    userMovieToRating_train[(user,movie)] = rating\n",
    "    movieUserToRating_train[(movie,user)] = rating\n",
    "\n",
    "    \n",
    "userMovieToRating_test = {}\n",
    "movieUserToRating_test = {}\n",
    "\n",
    "for user, movie, rating in zip(df_test['userId'], df_test['movieId'], df_test['rating']):\n",
    "    userMovieToRating_test[(user,movie)] = rating\n",
    "    movieUserToRating_test[(movie,user)] = rating"
   ]
  },
  {
   "cell_type": "code",
   "execution_count": 10,
   "metadata": {},
   "outputs": [
    {
     "name": "stdout",
     "output_type": "stream",
     "text": [
      "Mean number of users that rated each movie: 53.91\n",
      "Mean number of movies that have been rated by each user: 96.04\n"
     ]
    }
   ],
   "source": [
    "meanUsersPerMovie = np.mean([len(users) for users in movieToUser.values()])\n",
    "meanMoviesPerUser = np.mean([len(movies) for movies in userToMovie.values()])\n",
    "\n",
    "print(f\"Mean number of users that rated each movie: {round(meanUsersPerMovie,2)}\")\n",
    "print(f\"Mean number of movies that have been rated by each user: {round(meanMoviesPerUser,2)}\")"
   ]
  },
  {
   "cell_type": "markdown",
   "metadata": {},
   "source": [
    "<a id=\"part_4\"></a>\n",
    "# Part 4: Collaborative filtering"
   ]
  },
  {
   "cell_type": "code",
   "execution_count": 11,
   "metadata": {},
   "outputs": [],
   "source": [
    "def get_neighbors_averages_deviations(userToMovie, userMovieToRating, K, limit):\n",
    "    \"\"\"\n",
    "    Returns dictionaries of neighbors, averages and deviations using collaborative filtering.\n",
    "    Params:\n",
    "        userToMovie - dictionary with user as key and list of the movies he rated as value.\n",
    "        userMovieToRating - dictionary with (user, movie) as key and rating as value.\n",
    "        K - number of neighbors we'd like to consider.\n",
    "        limit - number of movies users must have in common in order to be considered neighbors.\n",
    "    \"\"\"\n",
    "    \n",
    "    neighbors = {} # Store neighbors in this list\n",
    "    averages = {} # Each item's average rating for later use\n",
    "    deviations = {} # Each item's deviation for later use\n",
    "    \n",
    "    for i in userToMovie.keys():\n",
    "        # Find the 25 closest users to user i\n",
    "        movies_i = userToMovie[i]\n",
    "        movies_i_set = set(movies_i)\n",
    "\n",
    "        # Calculate avg and deviation\n",
    "        ratings_i = {movie : userMovieToRating[(i, movie)] for movie in movies_i}\n",
    "        avg_i = np.mean(list(ratings_i.values()))\n",
    "        dev_i = {movie : (rating - avg_i) for movie, rating in ratings_i.items()}\n",
    "        dev_i_values = np.array(list(dev_i.values()))\n",
    "        sigma_i = np.sqrt(dev_i_values.dot(dev_i_values))\n",
    "\n",
    "        # Save these for later use\n",
    "        averages[i] = avg_i\n",
    "        deviations[i] = dev_i\n",
    "\n",
    "        sl = SortedList()\n",
    "        for j in userToMovie.keys():\n",
    "            # Don't include yourself\n",
    "            if j != i:\n",
    "                movies_j = userToMovie[j]\n",
    "                movies_j_set = set(movies_j)\n",
    "                common_movies = (movies_i_set & movies_j_set) # intersection\n",
    "                if len(common_movies) > limit:\n",
    "                    # Calculate avg and deviation\n",
    "                    ratings_j = {movie : userMovieToRating[(j, movie)] for movie in movies_j}\n",
    "                    avg_j = np.mean(list(ratings_j.values()))\n",
    "                    dev_j = { movie:(rating - avg_j) for movie, rating in ratings_j.items() }\n",
    "                    dev_j_values = np.array(list(dev_j.values()))\n",
    "                    sigma_j = np.sqrt(dev_j_values.dot(dev_j_values))\n",
    "\n",
    "                    # Calculate correlation coefficient\n",
    "                    numerator = sum(dev_i[m]*dev_j[m] for m in common_movies)\n",
    "                    w_ij = numerator / (sigma_i * sigma_j)\n",
    "\n",
    "                    # Insert into sorted list and truncate\n",
    "                    # negate weight, because list is sorted ascending\n",
    "                    # maximum value (1) is \"closest\"\n",
    "                    sl.add((-w_ij, j))\n",
    "                    if len(sl) > K:\n",
    "                        del sl[-1]\n",
    "\n",
    "        # Store the neighbors\n",
    "        neighbors[i] = sl\n",
    "    \n",
    "    return neighbors, averages, deviations"
   ]
  },
  {
   "cell_type": "code",
   "execution_count": 12,
   "metadata": {},
   "outputs": [],
   "source": [
    "K = 20 # Number of neighbors we'd like to consider\n",
    "limit = 5 # Number of movies users must have in common in order to be considered neighbors\n",
    "\n",
    "# Movie-based collaborative filtering\n",
    "neighbors_movieBased, averages_movieBased, deviations_movieBased = \\\n",
    "    get_neighbors_averages_deviations(movieToUser, movieUserToRating_train, K, limit)\n",
    "\n",
    "# User-based collaborative filtering\n",
    "neighbors_userBased, averages_userBased, deviations_userBased = \\\n",
    "    get_neighbors_averages_deviations(userToMovie, userMovieToRating_train, K, limit)"
   ]
  },
  {
   "cell_type": "markdown",
   "metadata": {},
   "source": [
    "<a id=\"part_5\"></a>\n",
    "# Part 5: Predict the test data and evaluate the model with MSE"
   ]
  },
  {
   "cell_type": "markdown",
   "metadata": {},
   "source": [
    "* As can be seen in the evaluation below, the mean squared error (MSE) is better in the user-based algorithm than in the movie-based.\n",
    "* This is because each user rated more movies than there were users who rated each movie."
   ]
  },
  {
   "cell_type": "code",
   "execution_count": 13,
   "metadata": {},
   "outputs": [],
   "source": [
    "def predict(i, m, neighbors, averages, deviations):\n",
    "    if i in neighbors:\n",
    "        # Calculate the weighted sum of deviations\n",
    "        numerator = 0\n",
    "        denominator = 0\n",
    "        for neg_w, j in neighbors[i]:\n",
    "            # The weight is stored as its negative\n",
    "            # so the negative of the negative weight is the positive weight\n",
    "            try:\n",
    "                numerator += -neg_w * deviations[j][m]\n",
    "                denominator += abs(neg_w)\n",
    "            except KeyError:\n",
    "                # Neighbor may not have been rated by the same user\n",
    "                pass\n",
    "\n",
    "        if denominator == 0:\n",
    "            prediction = averages[i]\n",
    "        else:\n",
    "            prediction = numerator / denominator + averages[i]\n",
    "        prediction = min(5, prediction)\n",
    "        prediction = max(1, prediction) # Min rating is 1\n",
    "        return prediction\n",
    "    else:\n",
    "        return"
   ]
  },
  {
   "cell_type": "code",
   "execution_count": 14,
   "metadata": {},
   "outputs": [],
   "source": [
    "# calculate mean squared error\n",
    "def mse(p, t):\n",
    "    \"\"\"\n",
    "    Returns the mean squared error score of the predictions and the true values.\n",
    "    Params:\n",
    "        p - list or np.array of predictions\n",
    "        t - list or np.array of true values\n",
    "    \"\"\"\n",
    "    p = np.array(p)\n",
    "    t = np.array(t)\n",
    "    return np.mean((p - t)**2)"
   ]
  },
  {
   "cell_type": "code",
   "execution_count": 15,
   "metadata": {},
   "outputs": [
    {
     "name": "stdout",
     "output_type": "stream",
     "text": [
      "Movie-based collaborative filtering\n",
      "Train MSE: 0.596706334721398\n",
      "Test MSE: 1.0508061532311659\n"
     ]
    }
   ],
   "source": [
    "# Movie-based\n",
    "\n",
    "train_pred = []\n",
    "train_true = []\n",
    "for (i, m), rating in movieUserToRating_train.items():\n",
    "    # Calculate the prediction for this movie\n",
    "    prediction = predict(i, m, neighbors_movieBased, averages_movieBased, deviations_movieBased)\n",
    "\n",
    "    # Save the prediction and true rating\n",
    "    if prediction is not None:\n",
    "        train_pred.append(prediction)\n",
    "    else:\n",
    "        # Predict the most common rating if no prediction is possible.\n",
    "        train_pred.append(mostCommonRating)\n",
    "    train_true.append(rating)\n",
    "\n",
    "    \n",
    "\n",
    "test_pred = []\n",
    "test_true = []\n",
    "# Same thing for test set\n",
    "for (i, m), rating in movieUserToRating_test.items():\n",
    "    # Calculate the prediction for this movie\n",
    "    prediction = predict(i, m, neighbors_movieBased, averages_movieBased, deviations_movieBased)\n",
    "\n",
    "    # Save the prediction and true rating\n",
    "    if prediction is not None:\n",
    "        test_pred.append(prediction)\n",
    "    else:\n",
    "        # Predict the most common rating if no prediction is possible.\n",
    "        test_pred.append(mostCommonRating)\n",
    "    test_true.append(rating)\n",
    "    \n",
    "\n",
    "# Movie-based\n",
    "print('Movie-based collaborative filtering')\n",
    "print('Train MSE:', mse(train_pred, train_true))\n",
    "print('Test MSE:', mse(test_pred, test_true))"
   ]
  },
  {
   "cell_type": "code",
   "execution_count": 16,
   "metadata": {},
   "outputs": [
    {
     "name": "stdout",
     "output_type": "stream",
     "text": [
      "User-based collaborative filtering\n",
      "Train MSE: 0.7047325809335139\n",
      "Test MSE: 1.040931662037332\n"
     ]
    }
   ],
   "source": [
    "# User-based\n",
    "\n",
    "train_pred = []\n",
    "train_true = []\n",
    "for (i, m), rating in userMovieToRating_train.items():\n",
    "    # Calculate the prediction for this user\n",
    "    prediction = predict(i, m, neighbors_userBased, averages_userBased, deviations_userBased )\n",
    "\n",
    "    # Save the prediction and true rating\n",
    "    if prediction is not None:\n",
    "        train_pred.append(prediction)\n",
    "    else:\n",
    "        # Predict the most common rating if no prediction is possible.\n",
    "        train_pred.append(mostCommonRating)\n",
    "    train_true.append(rating)\n",
    "    \n",
    "\n",
    "test_pred = []\n",
    "test_true = []\n",
    "# Same thing for test set\n",
    "for (i, m), rating in userMovieToRating_test.items():\n",
    "    # Calculate the prediction for this user\n",
    "    prediction = predict(i, m, neighbors_userBased, averages_userBased, deviations_userBased )\n",
    "\n",
    "    # Save the prediction and true rating\n",
    "    if prediction is not None:\n",
    "        test_pred.append(prediction)\n",
    "    else:\n",
    "        # Predict the most common rating if no prediction is possible.\n",
    "        test_pred.append(mostCommonRating)\n",
    "    test_true.append(rating)\n",
    "    \n",
    "\n",
    "# User-based\n",
    "print('User-based collaborative filtering')\n",
    "print('Train MSE:', mse(train_pred, train_true))\n",
    "print('Test MSE:', mse(test_pred, test_true))"
   ]
  }
 ],
 "metadata": {
  "kernelspec": {
   "display_name": "Python 3",
   "language": "python",
   "name": "python3"
  },
  "language_info": {
   "codemirror_mode": {
    "name": "ipython",
    "version": 3
   },
   "file_extension": ".py",
   "mimetype": "text/x-python",
   "name": "python",
   "nbconvert_exporter": "python",
   "pygments_lexer": "ipython3",
   "version": "3.7.3"
  }
 },
 "nbformat": 4,
 "nbformat_minor": 2
}
