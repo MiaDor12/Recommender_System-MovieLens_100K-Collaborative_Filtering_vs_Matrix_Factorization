{
 "cells": [
  {
   "cell_type": "markdown",
   "metadata": {},
   "source": [
    "# Introduction\n",
    "* This notebook contains an implementation of matrix factorization uning Keras.\n",
    "* Matrix factorization is an algorithm used for recommendation, for example to predict a user's rating of a movie.  This algorithm uses embedding to create two matrices, of the users and movies, such that their dot product gives the desired rating.\n",
    "* The data I used for this project is the MovieLens 100k, from GroupLens: https://grouplens.org/datasets/movielens/100k/\n",
    "* In the full data set there are 100000 ratings by 943 users on 1682 movies, where each user has rated at least 20 movies.\n",
    "* The data sets ratings_train.csv and ratings_test.csv split the full data into a training set and a test set with exactly 10 ratings per user in the test set.\n",
    "* Using simple collborative filtering, I got a mean squared error score on the test data set of 1.04.\n",
    "* Using matrix factorization, I got a mean squared error score on the test data set of 0.91 -> 12.5% improvement.\n",
    "\n",
    "### The notebook is divided into the following parts:\n",
    "* [Part 1: Notebook preparation](#part_1)\n",
    "* [Part 2: Data exploration](#part_2)\n",
    "* [Part 3: Data preparation](#part_3)\n",
    "* [Part 4: Matrix factorization](#part_4)\n",
    "* [Part 5: Predict the test data and evaluate the model with MSE](#part_5)"
   ]
  },
  {
   "cell_type": "markdown",
   "metadata": {},
   "source": [
    "<a id=\"part_1\"></a>\n",
    "# Part 1: Notebook preparation"
   ]
  },
  {
   "cell_type": "code",
   "execution_count": 1,
   "metadata": {},
   "outputs": [],
   "source": [
    "# Data processing\n",
    "import pandas as pd\n",
    "import numpy as np\n",
    "\n",
    "# Visualization\n",
    "import seaborn as sns\n",
    "sns.set(style=\"white\")\n",
    "import matplotlib.pyplot as plt\n",
    "from matplotlib.colors import ListedColormap\n",
    "%matplotlib inline\n",
    "\n",
    "# Deep learning\n",
    "import keras\n",
    "from keras.layers import Dense, Dropout, Flatten, Activation, Input, Embedding, Activation, Dot, BatchNormalization\n",
    "from keras.layers.merge import dot\n",
    "from keras.models import Model\n",
    "from keras.optimizers import Adam\n",
    "from sklearn.metrics import mean_absolute_error"
   ]
  },
  {
   "cell_type": "code",
   "execution_count": 2,
   "metadata": {},
   "outputs": [],
   "source": [
    "df_train = pd.read_csv('ratings_train.csv', header=None, names=['userId', 'movieId', 'rating', 'timestamp'])\n",
    "df_test = pd.read_csv('ratings_test.csv', header=None, names=['userId', 'movieId', 'rating', 'timestamp'])"
   ]
  },
  {
   "cell_type": "markdown",
   "metadata": {},
   "source": [
    "<a id=\"part_2\"></a>\n",
    "# Part 2: Data exploration"
   ]
  },
  {
   "cell_type": "code",
   "execution_count": 3,
   "metadata": {},
   "outputs": [
    {
     "data": {
      "text/html": [
       "<div>\n",
       "<style scoped>\n",
       "    .dataframe tbody tr th:only-of-type {\n",
       "        vertical-align: middle;\n",
       "    }\n",
       "\n",
       "    .dataframe tbody tr th {\n",
       "        vertical-align: top;\n",
       "    }\n",
       "\n",
       "    .dataframe thead th {\n",
       "        text-align: right;\n",
       "    }\n",
       "</style>\n",
       "<table border=\"1\" class=\"dataframe\">\n",
       "  <thead>\n",
       "    <tr style=\"text-align: right;\">\n",
       "      <th></th>\n",
       "      <th>userId</th>\n",
       "      <th>movieId</th>\n",
       "      <th>rating</th>\n",
       "      <th>timestamp</th>\n",
       "    </tr>\n",
       "  </thead>\n",
       "  <tbody>\n",
       "    <tr>\n",
       "      <td>0</td>\n",
       "      <td>1</td>\n",
       "      <td>1</td>\n",
       "      <td>5</td>\n",
       "      <td>874965758</td>\n",
       "    </tr>\n",
       "    <tr>\n",
       "      <td>1</td>\n",
       "      <td>1</td>\n",
       "      <td>2</td>\n",
       "      <td>3</td>\n",
       "      <td>876893171</td>\n",
       "    </tr>\n",
       "    <tr>\n",
       "      <td>2</td>\n",
       "      <td>1</td>\n",
       "      <td>3</td>\n",
       "      <td>4</td>\n",
       "      <td>878542960</td>\n",
       "    </tr>\n",
       "    <tr>\n",
       "      <td>3</td>\n",
       "      <td>1</td>\n",
       "      <td>4</td>\n",
       "      <td>3</td>\n",
       "      <td>876893119</td>\n",
       "    </tr>\n",
       "    <tr>\n",
       "      <td>4</td>\n",
       "      <td>1</td>\n",
       "      <td>5</td>\n",
       "      <td>3</td>\n",
       "      <td>889751712</td>\n",
       "    </tr>\n",
       "  </tbody>\n",
       "</table>\n",
       "</div>"
      ],
      "text/plain": [
       "   userId  movieId  rating  timestamp\n",
       "0       1        1       5  874965758\n",
       "1       1        2       3  876893171\n",
       "2       1        3       4  878542960\n",
       "3       1        4       3  876893119\n",
       "4       1        5       3  889751712"
      ]
     },
     "metadata": {},
     "output_type": "display_data"
    },
    {
     "name": "stdout",
     "output_type": "stream",
     "text": [
      "Shape: (90570, 4)\n"
     ]
    }
   ],
   "source": [
    "display(df_train.head(5))\n",
    "print(f\"Shape: {df_train.shape}\")"
   ]
  },
  {
   "cell_type": "code",
   "execution_count": 4,
   "metadata": {},
   "outputs": [
    {
     "data": {
      "text/plain": [
       "<matplotlib.axes._subplots.AxesSubplot at 0x7fa866509710>"
      ]
     },
     "execution_count": 4,
     "metadata": {},
     "output_type": "execute_result"
    },
    {
     "data": {
      "image/png": "[encoded data removed]",
      "text/plain": [
       "<Figure size 432x288 with 1 Axes>"
      ]
     },
     "metadata": {
      "needs_background": "light"
     },
     "output_type": "display_data"
    }
   ],
   "source": [
    "# Rating histogram\n",
    "sns.barplot(df_train['rating'].value_counts().index, df_train['rating'].value_counts().values)"
   ]
  },
  {
   "cell_type": "code",
   "execution_count": 5,
   "metadata": {},
   "outputs": [],
   "source": [
    "mostCommonRating = df_train['rating'].value_counts().index[0]"
   ]
  },
  {
   "cell_type": "code",
   "execution_count": 6,
   "metadata": {},
   "outputs": [
    {
     "name": "stdout",
     "output_type": "stream",
     "text": [
      "Unique users in training set: 943\n",
      "Unique movies in training set: 1680\n",
      "Total unique movies in training and test set: 1682\n"
     ]
    }
   ],
   "source": [
    "print(f\"Unique users in training set: {len(df_train['userId'].unique())}\")\n",
    "print(f\"Unique movies in training set: {len(df_train['movieId'].unique())}\")\n",
    "print(f\"Total unique movies in training and test set: {len(set(df_train['movieId'].unique()) | set(df_test['movieId'].unique()))}\")"
   ]
  },
  {
   "cell_type": "code",
   "execution_count": 7,
   "metadata": {},
   "outputs": [
    {
     "name": "stdout",
     "output_type": "stream",
     "text": [
      "Min ratings per user in training set: 10\n",
      "Max ratings per user in training set: 727\n"
     ]
    },
    {
     "data": {
      "text/plain": [
       "<matplotlib.axes._subplots.AxesSubplot at 0x7fa866404828>"
      ]
     },
     "execution_count": 7,
     "metadata": {},
     "output_type": "execute_result"
    },
    {
     "data": {
      "image/png": "[encoded data removed]",
      "text/plain": [
       "<Figure size 432x288 with 1 Axes>"
      ]
     },
     "metadata": {
      "needs_background": "light"
     },
     "output_type": "display_data"
    }
   ],
   "source": [
    "df_train['countPerUser'] = df_train.groupby('userId')['userId'].transform('count')\n",
    "\n",
    "print(f\"Min ratings per user in training set: {df_train['countPerUser'].min()}\")\n",
    "print(f\"Max ratings per user in training set: {df_train['countPerUser'].max()}\")\n",
    "df_train['countPerUser'].hist()"
   ]
  },
  {
   "cell_type": "code",
   "execution_count": 8,
   "metadata": {},
   "outputs": [
    {
     "data": {
      "text/html": [
       "<div>\n",
       "<style scoped>\n",
       "    .dataframe tbody tr th:only-of-type {\n",
       "        vertical-align: middle;\n",
       "    }\n",
       "\n",
       "    .dataframe tbody tr th {\n",
       "        vertical-align: top;\n",
       "    }\n",
       "\n",
       "    .dataframe thead th {\n",
       "        text-align: right;\n",
       "    }\n",
       "</style>\n",
       "<table border=\"1\" class=\"dataframe\">\n",
       "  <thead>\n",
       "    <tr style=\"text-align: right;\">\n",
       "      <th></th>\n",
       "      <th>userId</th>\n",
       "      <th>movieId</th>\n",
       "      <th>rating</th>\n",
       "      <th>timestamp</th>\n",
       "    </tr>\n",
       "  </thead>\n",
       "  <tbody>\n",
       "    <tr>\n",
       "      <td>0</td>\n",
       "      <td>1</td>\n",
       "      <td>20</td>\n",
       "      <td>4</td>\n",
       "      <td>887431883</td>\n",
       "    </tr>\n",
       "    <tr>\n",
       "      <td>1</td>\n",
       "      <td>1</td>\n",
       "      <td>33</td>\n",
       "      <td>4</td>\n",
       "      <td>878542699</td>\n",
       "    </tr>\n",
       "    <tr>\n",
       "      <td>2</td>\n",
       "      <td>1</td>\n",
       "      <td>61</td>\n",
       "      <td>4</td>\n",
       "      <td>878542420</td>\n",
       "    </tr>\n",
       "    <tr>\n",
       "      <td>3</td>\n",
       "      <td>1</td>\n",
       "      <td>117</td>\n",
       "      <td>3</td>\n",
       "      <td>874965739</td>\n",
       "    </tr>\n",
       "    <tr>\n",
       "      <td>4</td>\n",
       "      <td>1</td>\n",
       "      <td>155</td>\n",
       "      <td>2</td>\n",
       "      <td>878542201</td>\n",
       "    </tr>\n",
       "  </tbody>\n",
       "</table>\n",
       "</div>"
      ],
      "text/plain": [
       "   userId  movieId  rating  timestamp\n",
       "0       1       20       4  887431883\n",
       "1       1       33       4  878542699\n",
       "2       1       61       4  878542420\n",
       "3       1      117       3  874965739\n",
       "4       1      155       2  878542201"
      ]
     },
     "metadata": {},
     "output_type": "display_data"
    },
    {
     "name": "stdout",
     "output_type": "stream",
     "text": [
      "Shape: (9430, 4)\n"
     ]
    }
   ],
   "source": [
    "display(df_test.head(5))\n",
    "print(f\"Shape: {df_test.shape}\")"
   ]
  },
  {
   "cell_type": "markdown",
   "metadata": {},
   "source": [
    "<a id=\"part_3\"></a>\n",
    "# Part 3: Data preparation"
   ]
  },
  {
   "cell_type": "code",
   "execution_count": 9,
   "metadata": {},
   "outputs": [],
   "source": [
    "df_train.userId = df_train.userId.astype('category').cat.codes.values\n",
    "df_train.movieId = df_train.movieId.astype('category').cat.codes.values\n",
    "df_test.userId = df_test.userId.astype('category').cat.codes.values\n",
    "df_test.movieId = df_test.movieId.astype('category').cat.codes.values"
   ]
  },
  {
   "cell_type": "markdown",
   "metadata": {},
   "source": [
    "<a id=\"part_4\"></a>\n",
    "# Part 4: Matrix factorization"
   ]
  },
  {
   "cell_type": "code",
   "execution_count": 10,
   "metadata": {},
   "outputs": [],
   "source": [
    "embed_size = 50\n",
    "n_movies = len(df_train['movieId'].unique())\n",
    "n_users = len(df_train['userId'].unique())"
   ]
  },
  {
   "cell_type": "code",
   "execution_count": 11,
   "metadata": {},
   "outputs": [],
   "source": [
    "user_input = Input(shape=(1,), name='user_input',dtype='int64')\n",
    "user_embedding = Embedding(n_users, embed_size, name='user_embedding')(user_input)\n",
    "user_vec = Flatten(name='flatten_users')(user_embedding)\n",
    "user_vec = Dropout(0.4)(user_vec)\n",
    "\n",
    "movie_input = Input(shape=(1,), name='movie_input', dtype='int64')\n",
    "movie_embedding = Embedding(n_movies, embed_size, name='movie_embedding')(movie_input)\n",
    "movie_vec = Flatten(name='flatten_movies')(movie_embedding)\n",
    "movie_vec = Dropout(0.4)(movie_vec)\n",
    "\n",
    "dot_product = dot([user_vec , movie_vec], name='dot_product', axes=1)\n",
    "\n",
    "prediction = Dense(1, activation='relu')(dot_product)\n",
    "model = Model(inputs = [user_input, movie_input], outputs = prediction)"
   ]
  },
  {
   "cell_type": "code",
   "execution_count": 12,
   "metadata": {},
   "outputs": [
    {
     "name": "stdout",
     "output_type": "stream",
     "text": [
      "Model: \"model_1\"\n",
      "__________________________________________________________________________________________________\n",
      "Layer (type)                    Output Shape         Param #     Connected to                     \n",
      "==================================================================================================\n",
      "user_input (InputLayer)         (None, 1)            0                                            \n",
      "__________________________________________________________________________________________________\n",
      "movie_input (InputLayer)        (None, 1)            0                                            \n",
      "__________________________________________________________________________________________________\n",
      "user_embedding (Embedding)      (None, 1, 50)        47150       user_input[0][0]                 \n",
      "__________________________________________________________________________________________________\n",
      "movie_embedding (Embedding)     (None, 1, 50)        84000       movie_input[0][0]                \n",
      "__________________________________________________________________________________________________\n",
      "flatten_users (Flatten)         (None, 50)           0           user_embedding[0][0]             \n",
      "__________________________________________________________________________________________________\n",
      "flatten_movies (Flatten)        (None, 50)           0           movie_embedding[0][0]            \n",
      "__________________________________________________________________________________________________\n",
      "dropout_1 (Dropout)             (None, 50)           0           flatten_users[0][0]              \n",
      "__________________________________________________________________________________________________\n",
      "dropout_2 (Dropout)             (None, 50)           0           flatten_movies[0][0]             \n",
      "__________________________________________________________________________________________________\n",
      "dot_product (Dot)               (None, 1)            0           dropout_1[0][0]                  \n",
      "                                                                 dropout_2[0][0]                  \n",
      "__________________________________________________________________________________________________\n",
      "dense_1 (Dense)                 (None, 1)            2           dot_product[0][0]                \n",
      "==================================================================================================\n",
      "Total params: 131,152\n",
      "Trainable params: 131,152\n",
      "Non-trainable params: 0\n",
      "__________________________________________________________________________________________________\n"
     ]
    }
   ],
   "source": [
    "model.summary()"
   ]
  },
  {
   "cell_type": "code",
   "execution_count": 13,
   "metadata": {},
   "outputs": [],
   "source": [
    "model.compile(optimizer='adam', loss='mse')"
   ]
  },
  {
   "cell_type": "code",
   "execution_count": 14,
   "metadata": {},
   "outputs": [
    {
     "name": "stdout",
     "output_type": "stream",
     "text": [
      "WARNING:tensorflow:From /opt/conda/lib/python3.7/site-packages/tensorflow/python/ops/math_ops.py:3066: to_int32 (from tensorflow.python.ops.math_ops) is deprecated and will be removed in a future version.\n",
      "Instructions for updating:\n",
      "Use tf.cast instead.\n",
      "Train on 90570 samples, validate on 9430 samples\n",
      "Epoch 1/20\n",
      "90570/90570 [==============================] - 2s 22us/step - loss: 10.5334 - val_loss: 6.7224\n",
      "Epoch 2/20\n",
      "90570/90570 [==============================] - 3s 30us/step - loss: 2.1018 - val_loss: 2.5216\n",
      "Epoch 3/20\n",
      "90570/90570 [==============================] - 2s 20us/step - loss: 1.3538 - val_loss: 1.8464\n",
      "Epoch 4/20\n",
      "90570/90570 [==============================] - 2s 20us/step - loss: 1.2138 - val_loss: 1.5964\n",
      "Epoch 5/20\n",
      "90570/90570 [==============================] - 2s 21us/step - loss: 1.1426 - val_loss: 1.5028\n",
      "Epoch 6/20\n",
      "90570/90570 [==============================] - 2s 20us/step - loss: 1.0967 - val_loss: 1.4522\n",
      "Epoch 7/20\n",
      "90570/90570 [==============================] - 2s 19us/step - loss: 1.0550 - val_loss: 1.4108\n",
      "Epoch 8/20\n",
      "90570/90570 [==============================] - 2s 19us/step - loss: 1.0151 - val_loss: 1.3877\n",
      "Epoch 9/20\n",
      "90570/90570 [==============================] - 2s 19us/step - loss: 0.9825 - val_loss: 1.3562\n",
      "Epoch 10/20\n",
      "90570/90570 [==============================] - 2s 19us/step - loss: 0.9474 - val_loss: 1.3499\n",
      "Epoch 11/20\n",
      "90570/90570 [==============================] - 2s 20us/step - loss: 0.9210 - val_loss: 1.3460\n",
      "Epoch 12/20\n",
      "90570/90570 [==============================] - 2s 19us/step - loss: 0.8994 - val_loss: 1.3380\n",
      "Epoch 13/20\n",
      "90570/90570 [==============================] - 2s 22us/step - loss: 0.8845 - val_loss: 1.3353\n",
      "Epoch 14/20\n",
      "90570/90570 [==============================] - 2s 25us/step - loss: 0.8715 - val_loss: 1.3346\n",
      "Epoch 15/20\n",
      "90570/90570 [==============================] - 2s 21us/step - loss: 0.8601 - val_loss: 1.3356\n",
      "Epoch 16/20\n",
      "90570/90570 [==============================] - 2s 19us/step - loss: 0.8440 - val_loss: 1.3450\n",
      "Epoch 17/20\n",
      "90570/90570 [==============================] - 2s 22us/step - loss: 0.8340 - val_loss: 1.3501\n",
      "Epoch 18/20\n",
      "90570/90570 [==============================] - 2s 23us/step - loss: 0.8300 - val_loss: 1.3510\n",
      "Epoch 19/20\n",
      "90570/90570 [==============================] - 4s 39us/step - loss: 0.8135 - val_loss: 1.3551\n",
      "Epoch 20/20\n",
      "90570/90570 [==============================] - 2s 22us/step - loss: 0.8036 - val_loss: 1.3587\n"
     ]
    }
   ],
   "source": [
    "batch_size=128\n",
    "epochs=20\n",
    "\n",
    "History = model.fit([df_train.userId, df_train.movieId], df_train.rating, batch_size=batch_size,\n",
    "                     epochs=epochs, validation_data=([df_test.userId, df_test.movieId], df_test.rating), verbose = 1)\n"
   ]
  },
  {
   "cell_type": "code",
   "execution_count": 15,
   "metadata": {},
   "outputs": [
    {
     "data": {
      "image/png": "[encoded data removed]",
      "text/plain": [
       "<Figure size 432x288 with 1 Axes>"
      ]
     },
     "metadata": {
      "needs_background": "light"
     },
     "output_type": "display_data"
    }
   ],
   "source": [
    "plt.plot(History.history['loss'] , 'g')\n",
    "plt.plot(History.history['val_loss'] , 'b')\n",
    "plt.title('model loss')\n",
    "plt.ylabel('loss')\n",
    "plt.xlabel('epoch')\n",
    "plt.legend(['train', 'test'], loc='upper left')\n",
    "plt.grid(True)\n",
    "plt.show()"
   ]
  },
  {
   "cell_type": "markdown",
   "metadata": {},
   "source": [
    "<a id=\"part_5\"></a>\n",
    "# Part 5: Predict the test data and evaluate the model with MSE"
   ]
  },
  {
   "cell_type": "code",
   "execution_count": 17,
   "metadata": {},
   "outputs": [
    {
     "name": "stdout",
     "output_type": "stream",
     "text": [
      "Train MSE: 0.6105332891685988\n",
      "Test MSE: 0.9067868504772004\n"
     ]
    }
   ],
   "source": [
    "y_hat_train = np.round(model.predict([df_train.userId, df_train.movieId]),0)\n",
    "y_true_train = df_train.rating\n",
    "\n",
    "y_hat_test = np.round(model.predict([df_test.userId, df_test.movieId]),0)\n",
    "y_true_test = df_test.rating\n",
    "\n",
    "mse_train = mean_absolute_error(y_true_train, y_hat_train)\n",
    "mse_test = mean_absolute_error(y_true_test, y_hat_test)\n",
    "\n",
    "print('Train MSE:', mse_train)\n",
    "print('Test MSE:', mse_test)"
   ]
  }
 ],
 "metadata": {
  "kernelspec": {
   "display_name": "Python 3",
   "language": "python",
   "name": "python3"
  },
  "language_info": {
   "codemirror_mode": {
    "name": "ipython",
    "version": 3
   },
   "file_extension": ".py",
   "mimetype": "text/x-python",
   "name": "python",
   "nbconvert_exporter": "python",
   "pygments_lexer": "ipython3",
   "version": "3.7.3"
  }
 },
 "nbformat": 4,
 "nbformat_minor": 2
}
